{
  "nbformat": 4,
  "nbformat_minor": 0,
  "metadata": {
    "colab": {
      "name": "Analisando os Dados do Airbnb (Rio De Janeiro)",
      "provenance": [],
      "toc_visible": true,
      "authorship_tag": "ABX9TyNZfSB5VG9SNIE1GIyQXohW",
      "include_colab_link": true
    },
    "kernelspec": {
      "name": "python3",
      "display_name": "Python 3"
    }
  },
  "cells": [
    {
      "cell_type": "markdown",
      "metadata": {
        "id": "view-in-github",
        "colab_type": "text"
      },
      "source": [
        "<a href=\"https://colab.research.google.com/github/geovanemelo/Portfolios-Data-Science/blob/main/Analisando_os_Dados_do_Airbnb_(Rio_De_Janeiro).ipynb\" target=\"_parent\"><img src=\"https://colab.research.google.com/assets/colab-badge.svg\" alt=\"Open In Colab\"/></a>"
      ]
    },
    {
      "cell_type": "markdown",
      "metadata": {
        "id": "VM4cfkaX7PJt"
      },
      "source": [
        "### **Data Science na Prática**\r\n",
        "*by [Geovane Melo](https://www.linkedin.com/in/geovane-melo-da-silva-105040147/)*\r\n",
        "\r\n",
        "---\r\n",
        "\r\n",
        "\r\n",
        "\r\n",
        "# Análise dos Dados do Airbnb - Rio de Janeiro\r\n",
        "\r\n",
        "O [Airbnb](https://www.airbnb.com.br/), fundado em 2008 em São Fransisco, na California vem inovando a forma de se hospedar de turistas do mundo inteiro, mesmo sem ter **nenhum hotel**.\r\n",
        "\r\n",
        "Anfitriões oferecem seus imóveis de maneira prática na plataforma e se conectam com turistas que preferem ter o seu *\"cantinho\"* do que a um tradicional hotel no seu momento de relaxamento.\r\n",
        "\r\n",
        "Com seu jeito peculiar e inovador, no final de 2018, a empresa americana já havia hospedado **mais de 300 milhões** de pessoas em todos os cantos do mundo, se tornando referência no ramo de ajolamento local.\r\n",
        "\r\n",
        "A empresa tem como iniciativa, disponibilizar alguns dados de hospedagem das maiores cidades do mundo. Atráves do portal [Inside Airbnb](http://insideairbnb.com/get-the-data.html), é possivel ter acesso á uma quantidade de dados incriveis, onde se pode baixar e desenvolver projetos e soluções de *Data Science*.\r\n",
        "\r\n",
        "<center><img alt=\"Analisando Airbnb\" width=\"10%\" src=\"https://www.area360.com.au/wp-content/uploads/2017/09/airbnb-logo.jpg\"></center>\r\n",
        "\r\n",
        "**Neste *notebook*, iremos analisar os dados referentes à cidade do Rio de Janeiro, e ver quais insights podem ser extraídos a partir de dados brutos.**\r\n",
        "\r\n"
      ]
    },
    {
      "cell_type": "markdown",
      "metadata": {
        "id": "0oJzxEX3AMyF"
      },
      "source": [
        "## Obtenção dos Dados\r\n",
        "\r\n",
        "Os dados usados nesse estudos foram retirado do portal [Inside Airbnb](http://insideairbnb.com/get-the-data.html).\r\n",
        "\r\n",
        "O inside AirBnB é um independente e não-comercial conjunto de ferramentas e dados. \r\n",
        "O portal permite que você explore a forma que o AirBnB trabalha e inova em todo planeta.\r\n",
        "\r\n",
        "O portal [Inside Airbnb](http://insideairbnb.com/get-the-data.html) não é associado ao AirBnB ou qualquer outro concorrente. Para mais informações sobre o portal clique [aqui](http://insideairbnb.com/behind.html).\r\n",
        "\r\n",
        "Com intuito de uma análise explorátoria inicial, apenas o seguinte arquivo será utilizado:\r\n",
        "\r\n",
        "* `listings.csv` - *Summary information and metrics for listings in Rio de Janeiro (good for visualisations).*\r\n"
      ]
    },
    {
      "cell_type": "code",
      "metadata": {
        "id": "L_B4CFXAEGhM"
      },
      "source": [
        "# importando os pacotes necessários\r\n",
        "\r\n",
        "import pandas as pd\r\n",
        "import matplotlib.pyplot as plt\r\n",
        "import seaborn as sns\r\n",
        "\r\n",
        "%matplotlib inline"
      ],
      "execution_count": 1,
      "outputs": []
    },
    {
      "cell_type": "code",
      "metadata": {
        "id": "qfO-kILpDwGq"
      },
      "source": [
        "# importando o arquivo listings.csv para um DataFrame\r\n",
        "\r\n",
        "df = pd.read_csv(\"http://data.insideairbnb.com/brazil/rj/rio-de-janeiro/2020-12-23/visualisations/listings.csv\")"
      ],
      "execution_count": 3,
      "outputs": []
    },
    {
      "cell_type": "markdown",
      "metadata": {
        "id": "pELdrr7eGODS"
      },
      "source": [
        "## Análise dos Dados\r\n",
        "\r\n",
        "Etapa de entendimento inicial, com intuito de compreender a forma que os dados estão estruturados."
      ]
    },
    {
      "cell_type": "markdown",
      "metadata": {
        "id": "r3wDh7jqGb5F"
      },
      "source": [
        "**Dicionário das variáveis**\r\n",
        "\r\n",
        "*entenda o que representa cada coluna*\r\n",
        "\r\n",
        "* `id` - Numero gerado automaticamente para identificação do imóvel\r\n",
        "* `name` - Título do anuncio feito\r\n",
        "* `host_id` - id do anfitrião da propriedade\r\n",
        "* `host_name` - Primeiro nome do anfitrião\r\n",
        "* `neighbourhood_group` - Está coluna não contém valores válidos\r\n",
        "* `neighbourhood` - nome do bairro\r\n",
        "* `latitude` - coordenada da latitude da propriedade\r\n",
        "* `longitude` - coordenada da longitude da propriedade\r\n",
        "* `room_type` - informa o tipo de quarto que é oferecido\r\n",
        "* `price` - preço para alugar o imóvel\r\n",
        "* `minimum_nights` - quantidade mínima de noites para reservar\r\n",
        "* `number_of_reviews` - número de reviews que a propriedade possui\r\n",
        "* `last_review` - data do último review\r\n",
        "* `reviews_per_month` - quantidade de reviews por mês\r\n",
        "* `calculated_host_listings_count` - quantidade de imóveis do mesmo anfitrião\r\n",
        "* `availability_365` - número de dias de disponibilidade dentro de 365 dias\r\n",
        "\r\n",
        "Começaremos verificando a \"cara\" do nosso *dataset*, analisando as 5 primeiras entradas.\r\n",
        "\r\n"
      ]
    },
    {
      "cell_type": "code",
      "metadata": {
        "colab": {
          "base_uri": "https://localhost:8080/",
          "height": 445
        },
        "id": "VzZ86HmuIkOM",
        "outputId": "6d54c3e7-8717-431b-c28a-ac030624cf95"
      },
      "source": [
        "# mostrar as 5 primeiras entradas\r\n",
        "df.head()"
      ],
      "execution_count": 5,
      "outputs": [
        {
          "output_type": "execute_result",
          "data": {
            "text/html": [
              "<div>\n",
              "<style scoped>\n",
              "    .dataframe tbody tr th:only-of-type {\n",
              "        vertical-align: middle;\n",
              "    }\n",
              "\n",
              "    .dataframe tbody tr th {\n",
              "        vertical-align: top;\n",
              "    }\n",
              "\n",
              "    .dataframe thead th {\n",
              "        text-align: right;\n",
              "    }\n",
              "</style>\n",
              "<table border=\"1\" class=\"dataframe\">\n",
              "  <thead>\n",
              "    <tr style=\"text-align: right;\">\n",
              "      <th></th>\n",
              "      <th>id</th>\n",
              "      <th>name</th>\n",
              "      <th>host_id</th>\n",
              "      <th>host_name</th>\n",
              "      <th>neighbourhood_group</th>\n",
              "      <th>neighbourhood</th>\n",
              "      <th>latitude</th>\n",
              "      <th>longitude</th>\n",
              "      <th>room_type</th>\n",
              "      <th>price</th>\n",
              "      <th>minimum_nights</th>\n",
              "      <th>number_of_reviews</th>\n",
              "      <th>last_review</th>\n",
              "      <th>reviews_per_month</th>\n",
              "      <th>calculated_host_listings_count</th>\n",
              "      <th>availability_365</th>\n",
              "    </tr>\n",
              "  </thead>\n",
              "  <tbody>\n",
              "    <tr>\n",
              "      <th>0</th>\n",
              "      <td>17878</td>\n",
              "      <td>Very Nice 2Br in Copacabana w. balcony, fast WiFi</td>\n",
              "      <td>68997</td>\n",
              "      <td>Matthias</td>\n",
              "      <td>NaN</td>\n",
              "      <td>Copacabana</td>\n",
              "      <td>-22.96592</td>\n",
              "      <td>-43.17896</td>\n",
              "      <td>Entire home/apt</td>\n",
              "      <td>500</td>\n",
              "      <td>5</td>\n",
              "      <td>259</td>\n",
              "      <td>2020-12-26</td>\n",
              "      <td>2.03</td>\n",
              "      <td>1</td>\n",
              "      <td>0</td>\n",
              "    </tr>\n",
              "    <tr>\n",
              "      <th>1</th>\n",
              "      <td>25026</td>\n",
              "      <td>Beautiful Modern Decorated Studio in Copa</td>\n",
              "      <td>3746246</td>\n",
              "      <td>Ghizlane</td>\n",
              "      <td>NaN</td>\n",
              "      <td>Copacabana</td>\n",
              "      <td>-22.97712</td>\n",
              "      <td>-43.19045</td>\n",
              "      <td>Entire home/apt</td>\n",
              "      <td>160</td>\n",
              "      <td>7</td>\n",
              "      <td>238</td>\n",
              "      <td>2020-02-15</td>\n",
              "      <td>1.85</td>\n",
              "      <td>11</td>\n",
              "      <td>335</td>\n",
              "    </tr>\n",
              "    <tr>\n",
              "      <th>2</th>\n",
              "      <td>35636</td>\n",
              "      <td>Cosy flat close to Ipanema beach</td>\n",
              "      <td>153232</td>\n",
              "      <td>Patricia</td>\n",
              "      <td>NaN</td>\n",
              "      <td>Ipanema</td>\n",
              "      <td>-22.98816</td>\n",
              "      <td>-43.19359</td>\n",
              "      <td>Entire home/apt</td>\n",
              "      <td>259</td>\n",
              "      <td>2</td>\n",
              "      <td>181</td>\n",
              "      <td>2020-03-15</td>\n",
              "      <td>2.07</td>\n",
              "      <td>1</td>\n",
              "      <td>267</td>\n",
              "    </tr>\n",
              "    <tr>\n",
              "      <th>3</th>\n",
              "      <td>35764</td>\n",
              "      <td>COPACABANA SEA BREEZE  -  RIO - 20 X Superhost</td>\n",
              "      <td>153691</td>\n",
              "      <td>Patricia Miranda &amp; Paulo</td>\n",
              "      <td>NaN</td>\n",
              "      <td>Copacabana</td>\n",
              "      <td>-22.98127</td>\n",
              "      <td>-43.19046</td>\n",
              "      <td>Entire home/apt</td>\n",
              "      <td>157</td>\n",
              "      <td>3</td>\n",
              "      <td>346</td>\n",
              "      <td>2020-12-20</td>\n",
              "      <td>2.78</td>\n",
              "      <td>1</td>\n",
              "      <td>89</td>\n",
              "    </tr>\n",
              "    <tr>\n",
              "      <th>4</th>\n",
              "      <td>41198</td>\n",
              "      <td>Modern 2bed,Top end of Copacabana</td>\n",
              "      <td>178975</td>\n",
              "      <td>Nicky</td>\n",
              "      <td>NaN</td>\n",
              "      <td>Copacabana</td>\n",
              "      <td>-22.97962</td>\n",
              "      <td>-43.19230</td>\n",
              "      <td>Entire home/apt</td>\n",
              "      <td>1035</td>\n",
              "      <td>3</td>\n",
              "      <td>18</td>\n",
              "      <td>2016-02-09</td>\n",
              "      <td>0.19</td>\n",
              "      <td>2</td>\n",
              "      <td>365</td>\n",
              "    </tr>\n",
              "  </tbody>\n",
              "</table>\n",
              "</div>"
            ],
            "text/plain": [
              "      id  ... availability_365\n",
              "0  17878  ...                0\n",
              "1  25026  ...              335\n",
              "2  35636  ...              267\n",
              "3  35764  ...               89\n",
              "4  41198  ...              365\n",
              "\n",
              "[5 rows x 16 columns]"
            ]
          },
          "metadata": {
            "tags": []
          },
          "execution_count": 5
        }
      ]
    },
    {
      "cell_type": "code",
      "metadata": {
        "id": "O-9jJZC_IqBF"
      },
      "source": [
        ""
      ],
      "execution_count": null,
      "outputs": []
    }
  ]
}